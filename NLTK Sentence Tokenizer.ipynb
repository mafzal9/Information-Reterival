{
 "cells": [
  {
   "cell_type": "code",
   "execution_count": 21,
   "metadata": {},
   "outputs": [
    {
     "name": "stdout",
     "output_type": "stream",
     "text": [
      "Length of Sentence tokens=3\r\n",
      "\n",
      "Hi, my name is Muhammad Afzal complete my BSIT in 2013.\r\n",
      "\n",
      "I Have more then 13+ Years of experience in the Field of Development using Different Technologies Like PHP/Mysql, ASP.Net as well as 5+ Years of Experience in the Field of IoT.\r\n",
      "\n",
      "Also Working as Freelancer Since 2010 when i was Studying at University of Sargodha.\r\n",
      "\n"
     ]
    }
   ],
   "source": [
    "###########################################################\n",
    "#\n",
    "#       Subject=Information Reterival\n",
    "#\n",
    "#       Author=Muhammad Afzal\n",
    "#\n",
    "#       Example=NLTK Word tokenizer\n",
    "#\n",
    "###########################################################\n",
    "\n",
    "#import nlkt Library\n",
    "import nltk\n",
    "\n",
    "#Wirte down the paragrah with more then one sentences.\n",
    "sentence=\"\"\"Hi, my name is Muhammad Afzal complete my BSIT in 2013.\n",
    "I Have more then 13+ Years of experience in the Field of Development using Different Technologies Like PHP/Mysql, ASP.Net as well as 5+ Years of Experience in the Field of IoT. Also Working as Freelancer Since 2010 when i was Studying at University of Sargodha.\"\"\"\n",
    "\n",
    "#Tokenize the Sentence\n",
    "s_tokens = nltk.sent_tokenize(sentence)\n",
    "\n",
    "#Display the Tokens Array Length\n",
    "print(\"Length of Sentence tokens=\"+str(len(s_tokens))+\"\\r\\n\")\n",
    "\n",
    "#Display the Sentence tokens in Different Lines using For Loop\n",
    "for s_tokens_value in s_tokens: \n",
    "    print(s_tokens_value+\"\\r\\n\")\n"
   ]
  },
  {
   "cell_type": "code",
   "execution_count": null,
   "metadata": {},
   "outputs": [],
   "source": []
  },
  {
   "cell_type": "code",
   "execution_count": null,
   "metadata": {},
   "outputs": [],
   "source": []
  }
 ],
 "metadata": {
  "kernelspec": {
   "display_name": "Python 3",
   "language": "python",
   "name": "python3"
  },
  "language_info": {
   "codemirror_mode": {
    "name": "ipython",
    "version": 3
   },
   "file_extension": ".py",
   "mimetype": "text/x-python",
   "name": "python",
   "nbconvert_exporter": "python",
   "pygments_lexer": "ipython3",
   "version": "3.8.5"
  }
 },
 "nbformat": 4,
 "nbformat_minor": 4
}
