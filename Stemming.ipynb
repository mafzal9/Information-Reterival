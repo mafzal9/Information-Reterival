{
 "cells": [
  {
   "cell_type": "code",
   "execution_count": 6,
   "metadata": {},
   "outputs": [
    {
     "name": "stdout",
     "output_type": "stream",
     "text": [
      "write\n",
      "stude\n",
      "studi\n",
      "studi\n"
     ]
    }
   ],
   "source": [
    "###########################################################\n",
    "#\n",
    "#       Subject= Information Reterival\n",
    "#\n",
    "#       Author= Muhammad Afzal\n",
    "#\n",
    "#       Registration# MSITS07203002\n",
    "#\n",
    "#       Example=Stemming\n",
    "#\n",
    "###########################################################\n",
    "\n",
    "#Porter stemming algorithm\n",
    "import nltk\n",
    "from nltk.stem import PorterStemmer\n",
    "word_stemmer = PorterStemmer()\n",
    "print(word_stemmer.stem('writing'))\n",
    "print(word_stemmer.stem('studing'))\n",
    "print(word_stemmer.stem('study'))\n",
    "print(word_stemmer.stem('studies'))\n"
   ]
  },
  {
   "cell_type": "code",
   "execution_count": 5,
   "metadata": {},
   "outputs": [
    {
     "name": "stdout",
     "output_type": "stream",
     "text": [
      "eat\n",
      "stud\n",
      "study\n",
      "study\n"
     ]
    }
   ],
   "source": [
    "#Lancaster stemming algorithm\n",
    "import nltk\n",
    "from nltk.stem import LancasterStemmer\n",
    "Lanc_stemmer = LancasterStemmer()\n",
    "print(Lanc_stemmer.stem('eats'))\n",
    "print(Lanc_stemmer.stem('studing'))\n",
    "print(Lanc_stemmer.stem('study'))\n",
    "print(Lanc_stemmer.stem('studies'))"
   ]
  },
  {
   "cell_type": "code",
   "execution_count": 4,
   "metadata": {},
   "outputs": [
    {
     "data": {
      "text/plain": [
       "'eat'"
      ]
     },
     "execution_count": 4,
     "metadata": {},
     "output_type": "execute_result"
    }
   ],
   "source": [
    "#Regular Expression stemming algorithm\n",
    "import nltk\n",
    "from nltk.stem import RegexpStemmer\n",
    "Reg_stemmer = RegexpStemmer('ing')\n",
    "Reg_stemmer.stem('ingeat')"
   ]
  },
  {
   "cell_type": "code",
   "execution_count": 9,
   "metadata": {},
   "outputs": [
    {
     "name": "stdout",
     "output_type": "stream",
     "text": [
      "('arabic', 'danish', 'dutch', 'english', 'finnish', 'french', 'german', 'hungarian', 'italian', 'norwegian', 'porter', 'portuguese', 'romanian', 'russian', 'spanish', 'swedish')\n",
      "اطفال\n",
      "\n",
      "\n",
      "studi\n",
      "studi\n",
      "stude\n"
     ]
    }
   ],
   "source": [
    "#Snowball stemming algorithm\n",
    "import nltk\n",
    "from nltk.stem import SnowballStemmer\n",
    "print(SnowballStemmer.languages)\n",
    "Arabic_stemmer = SnowballStemmer('arabic')\n",
    "print(Arabic_stemmer.stem ('الاطفال'))\n",
    "print(\"\\n\")\n",
    "Eng_Stemmer=SnowballStemmer('english')\n",
    "print(Eng_Stemmer.stem('study'))\n",
    "print(Eng_Stemmer.stem('studies'))\n",
    "print(Eng_Stemmer.stem('studing'))\n",
    "\n"
   ]
  },
  {
   "cell_type": "code",
   "execution_count": null,
   "metadata": {},
   "outputs": [],
   "source": []
  },
  {
   "cell_type": "code",
   "execution_count": null,
   "metadata": {},
   "outputs": [],
   "source": []
  }
 ],
 "metadata": {
  "kernelspec": {
   "display_name": "Python 3",
   "language": "python",
   "name": "python3"
  },
  "language_info": {
   "codemirror_mode": {
    "name": "ipython",
    "version": 3
   },
   "file_extension": ".py",
   "mimetype": "text/x-python",
   "name": "python",
   "nbconvert_exporter": "python",
   "pygments_lexer": "ipython3",
   "version": "3.8.5"
  }
 },
 "nbformat": 4,
 "nbformat_minor": 4
}
