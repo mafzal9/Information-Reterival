{
 "cells": [
  {
   "cell_type": "code",
   "execution_count": 7,
   "metadata": {},
   "outputs": [
    {
     "name": "stdout",
     "output_type": "stream",
     "text": [
      "\r\n",
      "\r\n",
      " ****************** Sentence Tokenizer ******************\r\n",
      "\r\n",
      "\n",
      "Length of Sentence tokens=3\r\n",
      "\n",
      "Hi, my name is Muhammad Afzal completed my BSIT in 2013.\r\n",
      "\n",
      "I Have more then 13+ Years of experience in the Field of Development using Different Technologies Like PHP/MySQL, ASP.Net as well as 5+ Years of Experience in the Field of IoT.\r\n",
      "\n",
      "Also Working as Freelancer Since 2010 when i was Studying at University of Sargodha.\r\n",
      "\n",
      "\r\n",
      "\r\n",
      " ****************** Word Tokenizer ******************\r\n",
      "\r\n",
      "\n",
      "['I', 'am', 'Going', 'to', 'Lahore', 'and', 'then', 'i', 'will', 'return', 'to', 'Sargodha']\n",
      "12\n"
     ]
    }
   ],
   "source": [
    "###########################################################\n",
    "#\n",
    "#       Subject= Information Reterival\n",
    "#\n",
    "#       Author= Muhammad Afzal\n",
    "#\n",
    "#       Registration# MSITS07203002\n",
    "#\n",
    "#       Example=NLTK Senstence & Word Tokenizer\n",
    "#\n",
    "###########################################################\n",
    "\n",
    "#import nlkt Library\n",
    "import nltk\n",
    "\n",
    "##################### Sentence Tokenizer Start#####################\n",
    "\n",
    "print(\"\\r\\n\\r\\n ****************** Sentence Tokenizer ******************\\r\\n\\r\\n\")\n",
    "\n",
    "#Wirte down the paragrah with more then one sentences.\n",
    "sentence=\"\"\"Hi, my name is Muhammad Afzal completed my BSIT in 2013.\n",
    "I Have more then 13+ Years of experience in the Field of Development using Different Technologies Like PHP/MySQL, ASP.Net as well as 5+ Years of Experience in the Field of IoT. Also Working as Freelancer Since 2010 when i was Studying at University of Sargodha.\"\"\"\n",
    "\n",
    "#Tokenize the Sentence\n",
    "s_tokens = nltk.sent_tokenize(sentence)\n",
    "\n",
    "#Display the Tokens Array Length\n",
    "print(\"Length of Sentence tokens=\"+str(len(s_tokens))+\"\\r\\n\")\n",
    "\n",
    "#Display the Sentence tokens in Different Lines using For Loop\n",
    "for s_tokens_value in s_tokens: \n",
    "    print(s_tokens_value+\"\\r\\n\")\n",
    "    \n",
    "##################### Sentence Tokenizer End#####################\n",
    "    \n",
    "    \n",
    "#####################Word Tokenizer Start#####################\n",
    "\n",
    "#Write down a line with more then one words\n",
    "sent=\"I am Going to Lahore and then i will return to Sargodha\"\n",
    "\n",
    "#use nltk word_tokenize method to convert sentence into word tokens.\n",
    "tokens = nltk.word_tokenize(sent)\n",
    "\n",
    "#display Tokens Array\n",
    "print(\"\\r\\n\\r\\n ****************** Word Tokenizer ******************\\r\\n\\r\\n\")\n",
    "print(tokens)\n",
    "\n",
    "#Display the Lenth of Tokens Array\n",
    "print(len(tokens))\n",
    "#####################Word Tokenizer End#####################"
   ]
  },
  {
   "cell_type": "code",
   "execution_count": null,
   "metadata": {},
   "outputs": [],
   "source": []
  }
 ],
 "metadata": {
  "kernelspec": {
   "display_name": "Python 3",
   "language": "python",
   "name": "python3"
  },
  "language_info": {
   "codemirror_mode": {
    "name": "ipython",
    "version": 3
   },
   "file_extension": ".py",
   "mimetype": "text/x-python",
   "name": "python",
   "nbconvert_exporter": "python",
   "pygments_lexer": "ipython3",
   "version": "3.8.5"
  }
 },
 "nbformat": 4,
 "nbformat_minor": 4
}
