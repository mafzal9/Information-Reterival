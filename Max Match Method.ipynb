{
 "cells": [
  {
   "cell_type": "code",
   "execution_count": 110,
   "metadata": {},
   "outputs": [
    {
     "name": "stdout",
     "output_type": "stream",
     "text": [
      "sentence#1 lahore punjab pakistan \n",
      "sentence#2 lahore is the capital of punjab \n",
      "sentence#3 travleing to punjab \n",
      "sentence#4 punjab has diverse culture \n",
      "sentence#5 IOT is the future of world \n",
      "sentence#6 Big-Data ML AI are the future of the world \n",
      "sentence#7 combination of IOT and Big-Data is love as well as AI and ML is also awesome combination \n"
     ]
    }
   ],
   "source": [
    "###########################################################\n",
    "#\n",
    "#       Subject= Information Reterival\n",
    "#\n",
    "#       Author= Muhammad Afzal\n",
    "#\n",
    "#       Registration# MSITS07203002\n",
    "#\n",
    "#       Topic=Maximum Matching Word Segmentation of Joined Words\n",
    "#\n",
    "#       GitHub Profile= https://www.github.com/mafzal9\n",
    "#       \n",
    "###########################################################\n",
    "\n",
    "\n",
    "#Dictionary List#1\n",
    "D=['pakistan','lahore','punjab','travleing','capital','state','largest','aggriculture','land','diverse','culture','is','a','to','has','the','of']\n",
    "\n",
    "#Dictionary List#2\n",
    "D1=['IOT','ML','AI','are','future','the','of','world','is','Big-Data','love','awesome','combination','and','as','well','also']\n",
    "\n",
    "#Define the Method Max_match which will take the 2 perameters sentence & Dictionary list\n",
    "def max_match(sentence,dictionary):\n",
    "    \n",
    "    #if senetence is empty then return \"\"\n",
    "    if not sentence:\n",
    "        return \"\"\n",
    "    \n",
    "    #start the loop from length to 1 in decresing order\n",
    "    for i in range(len(sentence),-1,-1):\n",
    "        \n",
    "        #grab the word from sentence till the number of i\n",
    "        first_word=sentence[:i] \n",
    "        #put the remaing sentence into reminder from the i: to the length of sentence\n",
    "        reminder=sentence[i:]\n",
    "        \n",
    "        #search the grabbed word in a dictonary\n",
    "        if first_word in dictionary:\n",
    "            #if found then return the word by adding space and call again recursive method\n",
    "            #for reminder to fetch other words\n",
    "            return first_word+ \" \"+max_match(reminder,dictionary)\n",
    "    #if did not match then take the first character from stream and put the reset of characters into remeinder\n",
    "    #and call the method recursevely.\n",
    "    first_word=sentence[0]\n",
    "    reminder=sentence[1:]\n",
    "    return first_word + max_match(reminder,dictionary)\n",
    "\n",
    "\n",
    "#Example#1\n",
    "print('sentence#1 '+ max_match('lahorepunjabpakistan',D))\n",
    "\n",
    "#Example#2\n",
    "print('sentence#2 '+ max_match('lahoreisthecapitalofpunjab',D))\n",
    "\n",
    "#Example#3\n",
    "print('sentence#3 '+ max_match('travleingtopunjab',D))\n",
    "\n",
    "#Example#4\n",
    "print('sentence#4 '+ max_match('punjabhasdiverseculture',D))\n",
    "\n",
    "#Example#5\n",
    "print('sentence#5 '+ max_match('IOTisthefutureofworld',D1))\n",
    "\n",
    "#Example#6\n",
    "print('sentence#6 '+ max_match('Big-DataMLAIarethefutureoftheworld',D1))\n",
    "\n",
    "#Example#7\n",
    "print('sentence#7 '+ max_match('combinationofIOTandBig-DataisloveaswellasAIandMLisalsoawesomecombination',D1))\n",
    "    "
   ]
  },
  {
   "cell_type": "code",
   "execution_count": null,
   "metadata": {},
   "outputs": [],
   "source": []
  },
  {
   "cell_type": "code",
   "execution_count": null,
   "metadata": {},
   "outputs": [],
   "source": []
  },
  {
   "cell_type": "code",
   "execution_count": null,
   "metadata": {},
   "outputs": [],
   "source": []
  }
 ],
 "metadata": {
  "kernelspec": {
   "display_name": "Python 3",
   "language": "python",
   "name": "python3"
  },
  "language_info": {
   "codemirror_mode": {
    "name": "ipython",
    "version": 3
   },
   "file_extension": ".py",
   "mimetype": "text/x-python",
   "name": "python",
   "nbconvert_exporter": "python",
   "pygments_lexer": "ipython3",
   "version": "3.8.5"
  }
 },
 "nbformat": 4,
 "nbformat_minor": 4
}
